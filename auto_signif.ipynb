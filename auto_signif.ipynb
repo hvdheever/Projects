{
 "cells": [
  {
   "cell_type": "markdown",
   "metadata": {},
   "source": [
    "# Auto Significance Testing"
   ]
  },
  {
   "cell_type": "code",
   "execution_count": null,
   "metadata": {},
   "outputs": [],
   "source": [
    "# cbcbc\n",
    "Things To Improve\n",
    "\n",
    "-- Hypothesis test - categorical, sample average against the population mean\n",
    "-- 1 tail, 2 tail \n",
    "x- More thorough visualization/exploration of the data\n",
    "x- Pull more of the functions apart\n",
    "-- More automation\n",
    "-- Independence of observations, no autocorrelation\n",
    "-- ANOVA/MANOVA\n",
    "-- Implement this logic flow, with assumption checking at each and every step, https://python.plainenglish.io/statistical-tests-with-python-880251e9b572\n",
    "-- Statistical tests focused on A/A tests\n",
    "x- Transformations to normality \n",
    "-- https://www.intro2r.info/unit3/which-test.html"
   ]
  },
  {
   "cell_type": "code",
   "execution_count": 266,
   "metadata": {},
   "outputs": [],
   "source": [
    "#Helper functions\n",
    "from statsmodels.stats import weightstats as stests\n",
    "from scipy.stats import shapiro,ttest_ind,skew,kurtosis,probplot\n",
    "from matplotlib import pyplot as plt\n",
    "import numpy as np\n",
    "import scipy as scipy\n",
    "    \n",
    "\n",
    "# identify outliers using simple interquartile ranges\n",
    "def iqr_outlier(x,threshold):\n",
    "    import numpy as np\n",
    "    sorted(x)\n",
    "    Q1,Q3 = np.percentile(x,[25,75])\n",
    "    IQR = Q3 - Q1\n",
    "    lower_range = Q1 - (threshold * IQR)\n",
    "    upper_range = Q3 + (threshold * IQR)\n",
    "    output = [i for i in x if i < lower_range or i > upper_range]\n",
    "    if len(output) > 0:\n",
    "        print(len(outliers),' outlier/s detected (Using IQR). This can cuase accuracy issues with normality transformations')\n",
    "    else:\n",
    "        print('Sample is outlier free (Using IQR)')\n",
    "    print()\n",
    "    return output\n",
    "    \n",
    "\n",
    "# test normality of sample\n",
    "def norm_test(x,alpha):\n",
    "    #Plot the data\n",
    "    plt.style.use('ggplot')\n",
    "    plt.hist(x,bins='auto') \n",
    "    plt.title('Sample Histogram')\n",
    "    plt.ylabel('Frequency')\n",
    "    plt.show()\n",
    "    \n",
    "    fig = plt.figure()\n",
    "    ax1 = fig.add_subplot(211)\n",
    "    prob = stats.probplot(x, dist=stats.norm, plot=ax1)\n",
    "    #ax1.set_xlabel('')\n",
    "    ax1.set_title('Probality plot against normal distribution')\n",
    "    plt.show()\n",
    "    \n",
    "    #Skewness & Kurtosis test\n",
    "    print('---Sample distribution----------------------')\n",
    "    kurt = kurtosis(x)\n",
    "    skewness = skew(x)\n",
    "    print( 'Kurtosis (Normal dist. = 0): {}'.format(kurt))\n",
    "    print( 'Skewness (Normal dist. = 0): {}'.format(skewness))\n",
    "    print()\n",
    "    \n",
    "    #Normality test\n",
    "    stat_x, p_x = shapiro(x)\n",
    "    print('Normality statistics =%.3f, p=%.3f' % (stat_x, p_x))\n",
    "    print('Gaussian (fail to reject H0)') if p_x > alpha else print('non-Gaussian (reject H0)')\n",
    "    print()\n",
    "    if p_x > alpha:\n",
    "        dist = 'gaussian'\n",
    "    else: \n",
    "        dist = 'non-gaussian'\n",
    "    return dist\n",
    "    \n",
    "#Equality of variance test\n",
    "def var_test(x,y,alpha):\n",
    "    print('---Variance equality test -----------------------')\n",
    "    x_var = np.array(x)\n",
    "    y_var = np.array(y)\n",
    "    f = np.var(x_var, ddof=1)/np.var(y_var, ddof=1) #calculate F test statistic \n",
    "    dfn = x_var.size-1 #define degrees of freedom numerator \n",
    "    dfd = y_var.size-1 #define degrees of freedom denominator \n",
    "    f_test_p_value = 1-scipy.stats.f.cdf(f, dfn, dfd) #find p-value of F test statistic \n",
    "    if f_test_p_value < alpha:\n",
    "        variance = 'unequal'\n",
    "    else:\n",
    "        variance = 'equal'\n",
    "    print('f test p-value =', f_test_p_value)\n",
    "    print('Variance <> equal') if f_test_p_value < alpha else print('Variance = equal')\n",
    "    print()\n",
    "    return variance\n",
    "\n",
    "#Statistical tests\n",
    "def two_sample_ztest(x,y,alpha,x_normality,y_normality):\n",
    "    print('--Z Test----------------------------------------------')\n",
    "    print('Sample sizes might be too small to run a z test. x =%.f, y =%.f' % (len(x),len(y))) if len(x) < 30 or len(y) < 30 else print('Sample large enough for z test. x =%.f, y =%.f' % (len(x),len(y)))\n",
    "    print('Some assumptions have violated for this test, see above') if x_normality == 'non-gaussian' or y_normality == 'non-gaussian'  else print('Assumptions are met, but its always better to check yourself')\n",
    "    ztest ,pval_z = stests.ztest(x, y, value=0,alternative='two-sided')  \n",
    "    print('Reject H0, significant difference exists, p value = %.3f' % (pval_z)) if pval_z < alpha else print('Fail to reject H0, no statistical difference between samples, p value = %.3f' % (pval_z))\n",
    "    print()\n",
    "\n",
    "def two_sample_ttest(x,y,alpha,x_normality,y_normality,variance):\n",
    "    print('--T Test---------------------------------------------')\n",
    "    print('T Test with unequal variance') if variance == 'unequal' else print('T Test with equal variance')\n",
    "    print('Some assumptions have been violated for this test, see above') if x_normality == 'non-gaussian' or y_normality== 'non-gaussian' else print('Assumptions are met, but its always better to check yourself')\n",
    "    if variance == 'unequal':\n",
    "        t, pval_t = ttest_ind(x, y, equal_var=False)\n",
    "    else:\n",
    "        t, pval_t = ttest_ind(x, y, equal_var=True)\n",
    "    print('T statistic =',t)\n",
    "    print('Reject H0, significant difference exists, p value = %.3f' % (pval_t)) if pval_t < alpha else print('Fail to reject H0, no statistical difference between samples, p value = %.3f' % (pval_t))\n",
    "    print()\n",
    "    \n",
    "def two_sample_mwutest(x,y,alpha):\n",
    "    print('--Mann-Whitney U Test (Nonparametric)-----------------')\n",
    "    print('Sample sizes might be too small to run a mwu test. x =%.f, y =%.f' % (len(x),len(y))) if len(x) < 20 or len(y) < 20 else print('Sample large enough for mwu test. x =%.f, y =%.f' % (len(x),len(y)))\n",
    "    stat_mw, p_mw = scipy.stats.mannwhitneyu(x, y)\n",
    "    print('MWU statistics = %.3f, p=%.3f' % (stat_mw, p_mw))\n",
    "    print('Reject H0, significant difference exists, p value = %.3f' % (p_mw)) if p_mw < alpha else print('Fail to reject H0, no statistical difference between samples, p value = %.3f' % (p_mw))\n",
    "\n",
    "#YJ normality transformation\n",
    "def power_transform(x,y):\n",
    "    skew_x = skew(x)\n",
    "    skew_y = skew(y)\n",
    "    pt_x_output, pt_x_lambda = stats.yeojohnson(x)\n",
    "    pt_y_output, pt_y_lambda = stats.yeojohnson(y)\n",
    "    if skew_x > skew_y:\n",
    "        x_transform = stats.yeojohnson(x,pt_x_lambda)\n",
    "        y_transform = stats.yeojohnson(y,pt_x_lambda)\n",
    "    else:\n",
    "        x_transform = stats.yeojohnson(x,pt_y_lambda)\n",
    "        y_transform = stats.yeojohnson(y,pt_y_lambda)\n",
    "    return x_transform, y_transform   \n",
    " \n",
    "#Output general info of sign. test\n",
    "def sign_cont_two_sample(x,y,alpha,transform=None):\n",
    "    if transform == 1:\n",
    "        x,y  = power_transform(x,y)\n",
    "        \n",
    "    print('--1st Sample------------------------------------------')\n",
    "    x_norm = norm_test(x,alpha)\n",
    "    iqr_outlier(x,1.5)\n",
    "    print('--2nd Sample------------------------------------------')\n",
    "    y_norm = norm_test(y,alpha)\n",
    "    iqr_outlier(y,1.5)\n",
    "    print('--Variance test---------------------------------------')\n",
    "    var_output = var_test(x,y,alpha)\n",
    "    \n",
    "    #Statistical Tests\n",
    "    two_sample_ztest(x,y,alpha,x_norm,y_norm)\n",
    "    two_sample_ttest(x,y,alpha,var_output,x_norm,y_norm)\n",
    "    two_sample_mwutest(x,y,alpha)\n",
    "\n",
    "\n",
    "    "
   ]
  },
  {
   "cell_type": "code",
   "execution_count": 276,
   "metadata": {},
   "outputs": [
    {
     "name": "stdout",
     "output_type": "stream",
     "text": [
      "--1st Sample------------------------------------------\n"
     ]
    },
    {
     "data": {
      "image/png": "[encoded data removed]",
      "text/plain": [
       "<Figure size 432x288 with 1 Axes>"
      ]
     },
     "metadata": {},
     "output_type": "display_data"
    },
    {
     "data": {
      "image/png": "[encoded data removed]",
      "text/plain": [
       "<Figure size 432x288 with 1 Axes>"
      ]
     },
     "metadata": {},
     "output_type": "display_data"
    },
    {
     "name": "stdout",
     "output_type": "stream",
     "text": [
      "---Sample distribution----------------------\n",
      "Kurtosis (Normal dist. = 0): -0.5038827203597265\n",
      "Skewness (Normal dist. = 0): 0.20041049462409247\n",
      "\n",
      "Normality statistics =0.945, p=0.580\n",
      "Gaussian (fail to reject H0)\n",
      "\n",
      "Sample is outlier free (Using IQR)\n",
      "\n",
      "--2nd Sample------------------------------------------\n"
     ]
    },
    {
     "data": {
      "image/png": "[encoded data removed]",
      "text/plain": [
       "<Figure size 432x288 with 1 Axes>"
      ]
     },
     "metadata": {},
     "output_type": "display_data"
    },
    {
     "data": {
      "image/png": "[encoded data removed]",
      "text/plain": [
       "<Figure size 432x288 with 1 Axes>"
      ]
     },
     "metadata": {},
     "output_type": "display_data"
    },
    {
     "name": "stdout",
     "output_type": "stream",
     "text": [
      "---Sample distribution----------------------\n",
      "Kurtosis (Normal dist. = 0): -1.2606111918079748\n",
      "Skewness (Normal dist. = 0): 0.2050228320706586\n",
      "\n",
      "Normality statistics =0.921, p=0.256\n",
      "Gaussian (fail to reject H0)\n",
      "\n",
      "Sample is outlier free (Using IQR)\n",
      "\n",
      "--Variance test---------------------------------------\n",
      "---Variance equality test -----------------------\n",
      "f test p-value = 0.26749837480771255\n",
      "Variance = equal\n",
      "\n",
      "--Z Test----------------------------------------------\n",
      "Sample sizes might be too small to run a z test. x =11, y =13\n",
      "Assumptions are met, but its always better to check yourself\n",
      "Fail to reject H0, no statistical difference between samples, p value = 0.666\n",
      "\n",
      "--T Test---------------------------------------------\n",
      "T Test with equal variance\n",
      "Assumptions are met, but its always better to check yourself\n",
      "T statistic = 0.43132074551306965\n",
      "Fail to reject H0, no statistical difference between samples, p value = 0.670\n",
      "\n",
      "--Mann-Whitney U Test (Nonparametric)-----------------\n",
      "Sample sizes might be too small to run a mwu test. x =11, y =13\n",
      "MWU statistics = 64.500, p=0.351\n",
      "Fail to reject H0, no statistical difference between samples, p value = 0.351\n"
     ]
    }
   ],
   "source": [
    "x = [0,4,5,5,5,5,9,2,2,2,7]\n",
    "y = [1,2,3,4,5,6,7,4,2,2,5,7,1]\n",
    "alpha = 0.05\n",
    "sign_cont_two_sample(x,y,alpha,transform=0)"
   ]
  },
  {
   "cell_type": "code",
   "execution_count": 233,
   "metadata": {},
   "outputs": [
    {
     "name": "stdout",
     "output_type": "stream",
     "text": [
      "3.0991925370876547\n",
      "2.0477670133153314\n"
     ]
    }
   ],
   "source": [
    "import statistics  \n",
    "print(statistics.mean(power_transform(x)))\n",
    "print(statistics.mean(power_transform(y)))\n",
    "#Test again for normality"
   ]
  },
  {
   "cell_type": "code",
   "execution_count": 260,
   "metadata": {},
   "outputs": [
    {
     "data": {
      "text/plain": [
       "(array([0.        , 3.09040253, 3.73095113, 3.73095113, 3.73095113,\n",
       "        3.73095113, 6.06106737, 1.6937653 , 1.6937653 , 1.6937653 ,\n",
       "        4.93454758]),\n",
       " array([0.90511347, 1.6937653 , 2.41518322, 3.09040253, 3.73095113,\n",
       "        4.34403478, 4.93454758, 3.09040253, 1.6937653 , 6.06106737,\n",
       "        6.06106737, 6.06106737, 1.6937653 , 3.73095113, 4.93454758,\n",
       "        0.90511347, 5.50601069, 0.90511347, 0.90511347]))"
      ]
     },
     "execution_count": 260,
     "metadata": {},
     "output_type": "execute_result"
    }
   ],
   "source": [
    "power_transform(x,y)"
   ]
  }
 ],
 "metadata": {
  "kernelspec": {
   "display_name": "Python 3",
   "language": "python",
   "name": "python3"
  },
  "language_info": {
   "codemirror_mode": {
    "name": "ipython",
    "version": 3
   },
   "file_extension": ".py",
   "mimetype": "text/x-python",
   "name": "python",
   "nbconvert_exporter": "python",
   "pygments_lexer": "ipython3",
   "version": "3.8.5"
  }
 },
 "nbformat": 4,
 "nbformat_minor": 4
}
